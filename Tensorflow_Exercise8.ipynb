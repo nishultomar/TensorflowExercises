{
  "nbformat": 4,
  "nbformat_minor": 0,
  "metadata": {
    "colab": {
      "name": "Tensorflow_Exercise8.ipynb",
      "provenance": [],
      "collapsed_sections": [],
      "authorship_tag": "ABX9TyOSNoMo3d8BwXnpwBJ0iGOf",
      "include_colab_link": true
    },
    "kernelspec": {
      "name": "python3",
      "display_name": "Python 3"
    }
  },
  "cells": [
    {
      "cell_type": "markdown",
      "metadata": {
        "id": "view-in-github",
        "colab_type": "text"
      },
      "source": [
        "<a href=\"https://colab.research.google.com/github/nishultomar/TensorflowExercises/blob/master/Tensorflow_Exercise8.ipynb\" target=\"_parent\"><img src=\"https://colab.research.google.com/assets/colab-badge.svg\" alt=\"Open In Colab\"/></a>"
      ]
    },
    {
      "cell_type": "markdown",
      "metadata": {
        "id": "NH9tufyniCHx",
        "colab_type": "text"
      },
      "source": [
        "**Regression**"
      ]
    },
    {
      "cell_type": "code",
      "metadata": {
        "id": "dFadAFOFNuTi",
        "colab_type": "code",
        "colab": {}
      },
      "source": [
        "\n",
        "import tensorflow as tf\n",
        "import numpy as np\n",
        "import matplotlib.pyplot as plt\n",
        "import pandas as pd"
      ],
      "execution_count": 0,
      "outputs": []
    },
    {
      "cell_type": "code",
      "metadata": {
        "id": "TP9m3lwrNzuK",
        "colab_type": "code",
        "outputId": "0be1909d-8607-4015-8132-4ee6bd509215",
        "colab": {
          "base_uri": "https://localhost:8080/",
          "height": 53
        }
      },
      "source": [
        "x_data = np.linspace(0.0,10.0,1000000)\n",
        "x_data"
      ],
      "execution_count": 90,
      "outputs": [
        {
          "output_type": "execute_result",
          "data": {
            "text/plain": [
              "array([0.000000e+00, 1.000001e-05, 2.000002e-05, ..., 9.999980e+00,\n",
              "       9.999990e+00, 1.000000e+01])"
            ]
          },
          "metadata": {
            "tags": []
          },
          "execution_count": 90
        }
      ]
    },
    {
      "cell_type": "code",
      "metadata": {
        "id": "IFJFXC6s-QLR",
        "colab_type": "code",
        "outputId": "dc1af075-834d-4480-bfe2-4d7cd5b763a2",
        "colab": {
          "base_uri": "https://localhost:8080/",
          "height": 53
        }
      },
      "source": [
        "noise = np.random.randn(len(x_data))\n",
        "noise"
      ],
      "execution_count": 91,
      "outputs": [
        {
          "output_type": "execute_result",
          "data": {
            "text/plain": [
              "array([-0.27745422, -0.38369021, -0.33809646, ...,  0.1227278 ,\n",
              "       -1.63558842,  0.72041734])"
            ]
          },
          "metadata": {
            "tags": []
          },
          "execution_count": 91
        }
      ]
    },
    {
      "cell_type": "code",
      "metadata": {
        "id": "kNjY_h3a-yjn",
        "colab_type": "code",
        "colab": {}
      },
      "source": [
        "#y=mx+b, b=5 and m = 0.5\n",
        "y_true=(0.5*x_data)+5+noise"
      ],
      "execution_count": 0,
      "outputs": []
    },
    {
      "cell_type": "code",
      "metadata": {
        "id": "zzUCud9VFB5o",
        "colab_type": "code",
        "outputId": "3abb26bf-58a6-4cfd-a21c-52e18554aceb",
        "colab": {
          "base_uri": "https://localhost:8080/",
          "height": 204
        }
      },
      "source": [
        "x_df = pd.DataFrame(data = x_data,  columns=['X-Data'])\n",
        "x_df.head()"
      ],
      "execution_count": 93,
      "outputs": [
        {
          "output_type": "execute_result",
          "data": {
            "text/html": [
              "<div>\n",
              "<style scoped>\n",
              "    .dataframe tbody tr th:only-of-type {\n",
              "        vertical-align: middle;\n",
              "    }\n",
              "\n",
              "    .dataframe tbody tr th {\n",
              "        vertical-align: top;\n",
              "    }\n",
              "\n",
              "    .dataframe thead th {\n",
              "        text-align: right;\n",
              "    }\n",
              "</style>\n",
              "<table border=\"1\" class=\"dataframe\">\n",
              "  <thead>\n",
              "    <tr style=\"text-align: right;\">\n",
              "      <th></th>\n",
              "      <th>X-Data</th>\n",
              "    </tr>\n",
              "  </thead>\n",
              "  <tbody>\n",
              "    <tr>\n",
              "      <th>0</th>\n",
              "      <td>0.00000</td>\n",
              "    </tr>\n",
              "    <tr>\n",
              "      <th>1</th>\n",
              "      <td>0.00001</td>\n",
              "    </tr>\n",
              "    <tr>\n",
              "      <th>2</th>\n",
              "      <td>0.00002</td>\n",
              "    </tr>\n",
              "    <tr>\n",
              "      <th>3</th>\n",
              "      <td>0.00003</td>\n",
              "    </tr>\n",
              "    <tr>\n",
              "      <th>4</th>\n",
              "      <td>0.00004</td>\n",
              "    </tr>\n",
              "  </tbody>\n",
              "</table>\n",
              "</div>"
            ],
            "text/plain": [
              "    X-Data\n",
              "0  0.00000\n",
              "1  0.00001\n",
              "2  0.00002\n",
              "3  0.00003\n",
              "4  0.00004"
            ]
          },
          "metadata": {
            "tags": []
          },
          "execution_count": 93
        }
      ]
    },
    {
      "cell_type": "code",
      "metadata": {
        "id": "fOYIRTaMGQeU",
        "colab_type": "code",
        "outputId": "420cbbc6-9dea-4302-d6ef-bad025c63e8c",
        "colab": {
          "base_uri": "https://localhost:8080/",
          "height": 204
        }
      },
      "source": [
        "y_df = pd.DataFrame(data = y_true, columns=['Y'])\n",
        "y_df.head()"
      ],
      "execution_count": 94,
      "outputs": [
        {
          "output_type": "execute_result",
          "data": {
            "text/html": [
              "<div>\n",
              "<style scoped>\n",
              "    .dataframe tbody tr th:only-of-type {\n",
              "        vertical-align: middle;\n",
              "    }\n",
              "\n",
              "    .dataframe tbody tr th {\n",
              "        vertical-align: top;\n",
              "    }\n",
              "\n",
              "    .dataframe thead th {\n",
              "        text-align: right;\n",
              "    }\n",
              "</style>\n",
              "<table border=\"1\" class=\"dataframe\">\n",
              "  <thead>\n",
              "    <tr style=\"text-align: right;\">\n",
              "      <th></th>\n",
              "      <th>Y</th>\n",
              "    </tr>\n",
              "  </thead>\n",
              "  <tbody>\n",
              "    <tr>\n",
              "      <th>0</th>\n",
              "      <td>4.722546</td>\n",
              "    </tr>\n",
              "    <tr>\n",
              "      <th>1</th>\n",
              "      <td>4.616315</td>\n",
              "    </tr>\n",
              "    <tr>\n",
              "      <th>2</th>\n",
              "      <td>4.661914</td>\n",
              "    </tr>\n",
              "    <tr>\n",
              "      <th>3</th>\n",
              "      <td>5.259326</td>\n",
              "    </tr>\n",
              "    <tr>\n",
              "      <th>4</th>\n",
              "      <td>5.589456</td>\n",
              "    </tr>\n",
              "  </tbody>\n",
              "</table>\n",
              "</div>"
            ],
            "text/plain": [
              "          Y\n",
              "0  4.722546\n",
              "1  4.616315\n",
              "2  4.661914\n",
              "3  5.259326\n",
              "4  5.589456"
            ]
          },
          "metadata": {
            "tags": []
          },
          "execution_count": 94
        }
      ]
    },
    {
      "cell_type": "code",
      "metadata": {
        "id": "lahZRnQvHFmq",
        "colab_type": "code",
        "outputId": "73acd40c-0b3d-4648-b719-70f707a9824b",
        "colab": {
          "base_uri": "https://localhost:8080/",
          "height": 204
        }
      },
      "source": [
        "my_data = pd.concat([x_df,y_df],axis = 1)\n",
        "my_data.head()"
      ],
      "execution_count": 95,
      "outputs": [
        {
          "output_type": "execute_result",
          "data": {
            "text/html": [
              "<div>\n",
              "<style scoped>\n",
              "    .dataframe tbody tr th:only-of-type {\n",
              "        vertical-align: middle;\n",
              "    }\n",
              "\n",
              "    .dataframe tbody tr th {\n",
              "        vertical-align: top;\n",
              "    }\n",
              "\n",
              "    .dataframe thead th {\n",
              "        text-align: right;\n",
              "    }\n",
              "</style>\n",
              "<table border=\"1\" class=\"dataframe\">\n",
              "  <thead>\n",
              "    <tr style=\"text-align: right;\">\n",
              "      <th></th>\n",
              "      <th>X-Data</th>\n",
              "      <th>Y</th>\n",
              "    </tr>\n",
              "  </thead>\n",
              "  <tbody>\n",
              "    <tr>\n",
              "      <th>0</th>\n",
              "      <td>0.00000</td>\n",
              "      <td>4.722546</td>\n",
              "    </tr>\n",
              "    <tr>\n",
              "      <th>1</th>\n",
              "      <td>0.00001</td>\n",
              "      <td>4.616315</td>\n",
              "    </tr>\n",
              "    <tr>\n",
              "      <th>2</th>\n",
              "      <td>0.00002</td>\n",
              "      <td>4.661914</td>\n",
              "    </tr>\n",
              "    <tr>\n",
              "      <th>3</th>\n",
              "      <td>0.00003</td>\n",
              "      <td>5.259326</td>\n",
              "    </tr>\n",
              "    <tr>\n",
              "      <th>4</th>\n",
              "      <td>0.00004</td>\n",
              "      <td>5.589456</td>\n",
              "    </tr>\n",
              "  </tbody>\n",
              "</table>\n",
              "</div>"
            ],
            "text/plain": [
              "    X-Data         Y\n",
              "0  0.00000  4.722546\n",
              "1  0.00001  4.616315\n",
              "2  0.00002  4.661914\n",
              "3  0.00003  5.259326\n",
              "4  0.00004  5.589456"
            ]
          },
          "metadata": {
            "tags": []
          },
          "execution_count": 95
        }
      ]
    },
    {
      "cell_type": "code",
      "metadata": {
        "id": "8730VgTRIKv1",
        "colab_type": "code",
        "outputId": "b84f2671-01a3-44b2-a4fe-78a409290171",
        "colab": {
          "base_uri": "https://localhost:8080/",
          "height": 297
        }
      },
      "source": [
        "my_data.sample(n=250).plot(kind='scatter',x='X-Data',y='Y')\n",
        "#This ends with creating a prefect linear data with noise"
      ],
      "execution_count": 96,
      "outputs": [
        {
          "output_type": "execute_result",
          "data": {
            "text/plain": [
              "<matplotlib.axes._subplots.AxesSubplot at 0x7f9ac991f9e8>"
            ]
          },
          "metadata": {
            "tags": []
          },
          "execution_count": 96
        },
        {
          "output_type": "display_data",
          "data": {
            "image/png": "[encoded data removed]",
            "text/plain": [
              "<Figure size 432x288 with 1 Axes>"
            ]
          },
          "metadata": {
            "tags": []
          }
        }
      ]
    },
    {
      "cell_type": "code",
      "metadata": {
        "id": "VttDh12ZItQ8",
        "colab_type": "code",
        "colab": {}
      },
      "source": [
        "batch_size = 8"
      ],
      "execution_count": 0,
      "outputs": []
    },
    {
      "cell_type": "code",
      "metadata": {
        "id": "vt8DMekP3Co3",
        "colab_type": "code",
        "colab": {}
      },
      "source": [
        "m = tf.Variable(0.5)\n",
        "b = tf.Variable(1.0)"
      ],
      "execution_count": 0,
      "outputs": []
    },
    {
      "cell_type": "code",
      "metadata": {
        "id": "7bR2e3IX3Ff_",
        "colab_type": "code",
        "colab": {}
      },
      "source": [
        "xph = tf.placeholder(tf.float32, [batch_size])\n",
        "yph = tf.placeholder(tf.float32, [batch_size])"
      ],
      "execution_count": 0,
      "outputs": []
    },
    {
      "cell_type": "code",
      "metadata": {
        "id": "kfMN2gzq3Y4f",
        "colab_type": "code",
        "colab": {}
      },
      "source": [
        "#model\n",
        "y_model = m* xph + b"
      ],
      "execution_count": 0,
      "outputs": []
    },
    {
      "cell_type": "code",
      "metadata": {
        "id": "4wgZ9RBL3iN-",
        "colab_type": "code",
        "colab": {}
      },
      "source": [
        "#Cost fucntion\n",
        "error =tf.reduce_sum(tf.square(yph-y_model))"
      ],
      "execution_count": 0,
      "outputs": []
    },
    {
      "cell_type": "code",
      "metadata": {
        "id": "89LbvgZH5NK9",
        "colab_type": "code",
        "colab": {}
      },
      "source": [
        "optimiser = tf.train.GradientDescentOptimizer(learning_rate=0.001)\n",
        "train = optimiser.minimize(error)"
      ],
      "execution_count": 0,
      "outputs": []
    },
    {
      "cell_type": "code",
      "metadata": {
        "id": "m_gsKTde5uqU",
        "colab_type": "code",
        "colab": {}
      },
      "source": [
        "init = tf.global_variables_initializer()"
      ],
      "execution_count": 0,
      "outputs": []
    },
    {
      "cell_type": "code",
      "metadata": {
        "id": "5526FSCr7BVf",
        "colab_type": "code",
        "colab": {}
      },
      "source": [
        "with tf.Session() as sess:\n",
        "  sess.run(init)\n",
        "\n",
        "  batches = 50000\n",
        "  for i in range(batches):\n",
        "    rand_ind = np.random.randint(len(x_data), size= batch_size)\n",
        "    feed = {xph:x_data[rand_ind], yph:y_true[rand_ind]}\n",
        "    sess.run(train,feed_dict=feed)\n",
        "  model_m,model_b = sess.run([m,b])"
      ],
      "execution_count": 0,
      "outputs": []
    },
    {
      "cell_type": "code",
      "metadata": {
        "id": "m2UxQ8zCBhEP",
        "colab_type": "code",
        "outputId": "8ebcadb9-30a1-461e-a0f1-182f4688542d",
        "colab": {
          "base_uri": "https://localhost:8080/",
          "height": 35
        }
      },
      "source": [
        "model_mWhat is Colaboratory?"
      ],
      "execution_count": 105,
      "outputs": [
        {
          "output_type": "stream",
          "text": [
            "Object `Colaboratory` not found.\n"
          ],
          "name": "stdout"
        }
      ]
    },
    {
      "cell_type": "code",
      "metadata": {
        "id": "BnFsN-J4FWYC",
        "colab_type": "code",
        "outputId": "603a3ff7-2ffc-4e66-f396-c429ae4916e9",
        "colab": {
          "base_uri": "https://localhost:8080/",
          "height": 35
        }
      },
      "source": [
        "model_b"
      ],
      "execution_count": 106,
      "outputs": [
        {
          "output_type": "execute_result",
          "data": {
            "text/plain": [
              "5.0102406"
            ]
          },
          "metadata": {
            "tags": []
          },
          "execution_count": 106
        }
      ]
    },
    {
      "cell_type": "code",
      "metadata": {
        "id": "VD4Cj7mcFfkz",
        "colab_type": "code",
        "colab": {}
      },
      "source": [
        "y_hat = x_data * model_m + model_b"
      ],
      "execution_count": 0,
      "outputs": []
    },
    {
      "cell_type": "code",
      "metadata": {
        "id": "SleTOubWF7nY",
        "colab_type": "code",
        "outputId": "238c78ad-8b0e-4e2a-ebbf-bdd639f90e9d",
        "colab": {
          "base_uri": "https://localhost:8080/",
          "height": 297
        }
      },
      "source": [
        "my_data.sample(n=250).plot(kind='scatter',x='X-Data',y='Y')\n",
        "plt.plot(x_data,y_hat,'r')"
      ],
      "execution_count": 108,
      "outputs": [
        {
          "output_type": "execute_result",
          "data": {
            "text/plain": [
              "[<matplotlib.lines.Line2D at 0x7f9ac98166a0>]"
            ]
          },
          "metadata": {
            "tags": []
          },
          "execution_count": 108
        },
        {
          "output_type": "display_data",
          "data": {
            "image/png": "[encoded data removed]",
            "text/plain": [
              "<Figure size 432x288 with 1 Axes>"
            ]
          },
          "metadata": {
            "tags": []
          }
        }
      ]
    },
    {
      "cell_type": "code",
      "metadata": {
        "id": "mEimZ8WIJNZt",
        "colab_type": "code",
        "colab": {}
      },
      "source": [
        "#Estimater API\n",
        "feat_cols=[tf.feature_column.numeric_column('x',shape=[1])]"
      ],
      "execution_count": 0,
      "outputs": []
    },
    {
      "cell_type": "code",
      "metadata": {
        "id": "zY2FQcra1xV8",
        "colab_type": "code",
        "colab": {
          "base_uri": "https://localhost:8080/",
          "height": 199
        },
        "outputId": "afde6670-a3f2-4302-d7d2-efc55812e828"
      },
      "source": [
        "estimater = tf.estimator.LinearRegressor(feature_columns = feat_cols)"
      ],
      "execution_count": 110,
      "outputs": [
        {
          "output_type": "stream",
          "text": [
            "INFO:tensorflow:Using default config.\n",
            "WARNING:tensorflow:Using temporary folder as model directory: /tmp/tmpbqp1p6ii\n",
            "INFO:tensorflow:Using config: {'_model_dir': '/tmp/tmpbqp1p6ii', '_tf_random_seed': None, '_save_summary_steps': 100, '_save_checkpoints_steps': None, '_save_checkpoints_secs': 600, '_session_config': allow_soft_placement: true\n",
            "graph_options {\n",
            "  rewrite_options {\n",
            "    meta_optimizer_iterations: ONE\n",
            "  }\n",
            "}\n",
            ", '_keep_checkpoint_max': 5, '_keep_checkpoint_every_n_hours': 10000, '_log_step_count_steps': 100, '_train_distribute': None, '_device_fn': None, '_protocol': None, '_eval_distribute': None, '_experimental_distribute': None, '_experimental_max_worker_delay_secs': None, '_session_creation_timeout_secs': 7200, '_service': None, '_cluster_spec': <tensorflow.python.training.server_lib.ClusterSpec object at 0x7f9ac9816518>, '_task_type': 'worker', '_task_id': 0, '_global_id_in_cluster': 0, '_master': '', '_evaluation_master': '', '_is_chief': True, '_num_ps_replicas': 0, '_num_worker_replicas': 1}\n"
          ],
          "name": "stdout"
        }
      ]
    },
    {
      "cell_type": "code",
      "metadata": {
        "id": "ZMz2x0oz1xTa",
        "colab_type": "code",
        "colab": {}
      },
      "source": [
        "#Train test split\n",
        "from sklearn.model_selection import train_test_split"
      ],
      "execution_count": 0,
      "outputs": []
    },
    {
      "cell_type": "code",
      "metadata": {
        "id": "eNdPir-21xRB",
        "colab_type": "code",
        "colab": {}
      },
      "source": [
        "x_train, x_eval, y_train, y_eval = train_test_split(x_data, y_true, test_size = 0.3, random_state = 0)"
      ],
      "execution_count": 0,
      "outputs": []
    },
    {
      "cell_type": "code",
      "metadata": {
        "id": "yP6fBcQY1xOS",
        "colab_type": "code",
        "colab": {
          "base_uri": "https://localhost:8080/",
          "height": 35
        },
        "outputId": "6038c561-1b78-4609-cd06-c086b76cdb7e"
      },
      "source": [
        "x_train.shape\n",
        "x_eval.shape"
      ],
      "execution_count": 113,
      "outputs": [
        {
          "output_type": "execute_result",
          "data": {
            "text/plain": [
              "(300000,)"
            ]
          },
          "metadata": {
            "tags": []
          },
          "execution_count": 113
        }
      ]
    },
    {
      "cell_type": "code",
      "metadata": {
        "id": "tRoy-gmc1xLo",
        "colab_type": "code",
        "colab": {}
      },
      "source": [
        "input_func= tf.estimator.inputs.numpy_input_fn({\"x\":x_train},y_train,batch_size=4, num_epochs = None, shuffle=True)"
      ],
      "execution_count": 0,
      "outputs": []
    },
    {
      "cell_type": "code",
      "metadata": {
        "id": "uyyiVD6r1xIN",
        "colab_type": "code",
        "colab": {}
      },
      "source": [
        "train_input_func = tf.estimator.inputs.numpy_input_fn({\"x\":x_train},y_train,batch_size=4, num_epochs = 1000, shuffle=False)"
      ],
      "execution_count": 0,
      "outputs": []
    },
    {
      "cell_type": "code",
      "metadata": {
        "id": "7L-8bnh41xCk",
        "colab_type": "code",
        "colab": {}
      },
      "source": [
        "eval_input_func = tf.estimator.inputs.numpy_input_fn({\"x\":x_train},y_train,batch_size=4, num_epochs = 1000, shuffle=False)"
      ],
      "execution_count": 0,
      "outputs": []
    },
    {
      "cell_type": "code",
      "metadata": {
        "id": "VrV7l3yX1w9z",
        "colab_type": "code",
        "colab": {
          "base_uri": "https://localhost:8080/",
          "height": 577
        },
        "outputId": "9dc2ea06-938a-4f7f-8ae0-5c0017c78080"
      },
      "source": [
        "estimater.train(input_fn=input_func, steps=1000)"
      ],
      "execution_count": 117,
      "outputs": [
        {
          "output_type": "stream",
          "text": [
            "INFO:tensorflow:Calling model_fn.\n",
            "INFO:tensorflow:Done calling model_fn.\n",
            "INFO:tensorflow:Create CheckpointSaverHook.\n",
            "INFO:tensorflow:Graph was finalized.\n",
            "INFO:tensorflow:Running local_init_op.\n",
            "INFO:tensorflow:Done running local_init_op.\n",
            "INFO:tensorflow:Saving checkpoints for 0 into /tmp/tmpbqp1p6ii/model.ckpt.\n",
            "INFO:tensorflow:loss = 174.3641, step = 1\n",
            "INFO:tensorflow:global_step/sec: 607.473\n",
            "INFO:tensorflow:loss = 18.832489, step = 101 (0.171 sec)\n",
            "INFO:tensorflow:global_step/sec: 682.418\n",
            "INFO:tensorflow:loss = 4.641807, step = 201 (0.143 sec)\n",
            "WARNING:tensorflow:It seems that global step (tf.train.get_global_step) has not been increased. Current value (could be stable): 296 vs previous value: 296. You could increase the global step by passing tf.train.get_global_step() to Optimizer.apply_gradients or Optimizer.minimize.\n",
            "INFO:tensorflow:global_step/sec: 619.362\n",
            "INFO:tensorflow:loss = 14.918481, step = 301 (0.166 sec)\n",
            "INFO:tensorflow:global_step/sec: 604.366\n",
            "INFO:tensorflow:loss = 7.802246, step = 401 (0.161 sec)\n",
            "INFO:tensorflow:global_step/sec: 729.364\n",
            "INFO:tensorflow:loss = 1.8488909, step = 501 (0.142 sec)\n",
            "INFO:tensorflow:global_step/sec: 527.522\n",
            "INFO:tensorflow:loss = 1.3275005, step = 601 (0.188 sec)\n",
            "INFO:tensorflow:global_step/sec: 802.953\n",
            "INFO:tensorflow:loss = 3.5865545, step = 701 (0.123 sec)\n",
            "INFO:tensorflow:global_step/sec: 699.172\n",
            "INFO:tensorflow:loss = 7.987447, step = 801 (0.142 sec)\n",
            "INFO:tensorflow:global_step/sec: 747.597\n",
            "INFO:tensorflow:loss = 3.9362001, step = 901 (0.134 sec)\n",
            "INFO:tensorflow:Saving checkpoints for 1000 into /tmp/tmpbqp1p6ii/model.ckpt.\n",
            "INFO:tensorflow:Loss for final step: 7.682175.\n"
          ],
          "name": "stdout"
        },
        {
          "output_type": "execute_result",
          "data": {
            "text/plain": [
              "<tensorflow_estimator.python.estimator.canned.linear.LinearRegressor at 0x7f9ac9816160>"
            ]
          },
          "metadata": {
            "tags": []
          },
          "execution_count": 117
        }
      ]
    },
    {
      "cell_type": "code",
      "metadata": {
        "id": "nkFbX_en1w6i",
        "colab_type": "code",
        "colab": {
          "base_uri": "https://localhost:8080/",
          "height": 397
        },
        "outputId": "6de4393b-b6b2-43b0-e7b8-7622fe18bc1b"
      },
      "source": [
        "train_matrix = estimater.evaluate(input_fn=train_input_func, steps=1000)"
      ],
      "execution_count": 118,
      "outputs": [
        {
          "output_type": "stream",
          "text": [
            "INFO:tensorflow:Calling model_fn.\n",
            "INFO:tensorflow:Done calling model_fn.\n",
            "INFO:tensorflow:Starting evaluation at 2020-02-12T13:30:48Z\n",
            "INFO:tensorflow:Graph was finalized.\n",
            "INFO:tensorflow:Restoring parameters from /tmp/tmpbqp1p6ii/model.ckpt-1000\n",
            "INFO:tensorflow:Running local_init_op.\n",
            "INFO:tensorflow:Done running local_init_op.\n",
            "INFO:tensorflow:Evaluation [100/1000]\n",
            "INFO:tensorflow:Evaluation [200/1000]\n",
            "INFO:tensorflow:Evaluation [300/1000]\n",
            "INFO:tensorflow:Evaluation [400/1000]\n",
            "INFO:tensorflow:Evaluation [500/1000]\n",
            "INFO:tensorflow:Evaluation [600/1000]\n",
            "INFO:tensorflow:Evaluation [700/1000]\n",
            "INFO:tensorflow:Evaluation [800/1000]\n",
            "INFO:tensorflow:Evaluation [900/1000]\n",
            "INFO:tensorflow:Evaluation [1000/1000]\n",
            "INFO:tensorflow:Finished evaluation at 2020-02-12-13:30:49\n",
            "INFO:tensorflow:Saving dict for global step 1000: average_loss = 1.094778, global_step = 1000, label/mean = 7.517061, loss = 4.379112, prediction/mean = 7.428476\n",
            "INFO:tensorflow:Saving 'checkpoint_path' summary for global step 1000: /tmp/tmpbqp1p6ii/model.ckpt-1000\n"
          ],
          "name": "stdout"
        }
      ]
    },
    {
      "cell_type": "code",
      "metadata": {
        "id": "QVx9o2uT1w29",
        "colab_type": "code",
        "colab": {
          "base_uri": "https://localhost:8080/",
          "height": 397
        },
        "outputId": "f2518498-1f2b-458e-8fb3-de41e9164281"
      },
      "source": [
        "eval_matrix = estimater.evaluate(input_fn=eval_input_func, steps=1000)"
      ],
      "execution_count": 119,
      "outputs": [
        {
          "output_type": "stream",
          "text": [
            "INFO:tensorflow:Calling model_fn.\n",
            "INFO:tensorflow:Done calling model_fn.\n",
            "INFO:tensorflow:Starting evaluation at 2020-02-12T13:30:50Z\n",
            "INFO:tensorflow:Graph was finalized.\n",
            "INFO:tensorflow:Restoring parameters from /tmp/tmpbqp1p6ii/model.ckpt-1000\n",
            "INFO:tensorflow:Running local_init_op.\n",
            "INFO:tensorflow:Done running local_init_op.\n",
            "INFO:tensorflow:Evaluation [100/1000]\n",
            "INFO:tensorflow:Evaluation [200/1000]\n",
            "INFO:tensorflow:Evaluation [300/1000]\n",
            "INFO:tensorflow:Evaluation [400/1000]\n",
            "INFO:tensorflow:Evaluation [500/1000]\n",
            "INFO:tensorflow:Evaluation [600/1000]\n",
            "INFO:tensorflow:Evaluation [700/1000]\n",
            "INFO:tensorflow:Evaluation [800/1000]\n",
            "INFO:tensorflow:Evaluation [900/1000]\n",
            "INFO:tensorflow:Evaluation [1000/1000]\n",
            "INFO:tensorflow:Finished evaluation at 2020-02-12-13:30:51\n",
            "INFO:tensorflow:Saving dict for global step 1000: average_loss = 1.094778, global_step = 1000, label/mean = 7.517061, loss = 4.379112, prediction/mean = 7.428476\n",
            "INFO:tensorflow:Saving 'checkpoint_path' summary for global step 1000: /tmp/tmpbqp1p6ii/model.ckpt-1000\n"
          ],
          "name": "stdout"
        }
      ]
    },
    {
      "cell_type": "code",
      "metadata": {
        "id": "2h00rbl81wYE",
        "colab_type": "code",
        "colab": {}
      },
      "source": [
        "input_func_predict = tf.estimator.inputs.numpy_input_fn({\"x\":np.linspace(0,10,10)},shuffle = False)"
      ],
      "execution_count": 0,
      "outputs": []
    },
    {
      "cell_type": "code",
      "metadata": {
        "id": "OMZPpl4fKqAJ",
        "colab_type": "code",
        "colab": {
          "base_uri": "https://localhost:8080/",
          "height": 305
        },
        "outputId": "c0874fce-71f8-4517-8926-9129f2244cc4"
      },
      "source": [
        "list(estimater.predict(input_fn=input_func_predict))"
      ],
      "execution_count": 121,
      "outputs": [
        {
          "output_type": "stream",
          "text": [
            "INFO:tensorflow:Calling model_fn.\n",
            "INFO:tensorflow:Done calling model_fn.\n",
            "INFO:tensorflow:Graph was finalized.\n",
            "INFO:tensorflow:Restoring parameters from /tmp/tmpbqp1p6ii/model.ckpt-1000\n",
            "INFO:tensorflow:Running local_init_op.\n",
            "INFO:tensorflow:Done running local_init_op.\n"
          ],
          "name": "stdout"
        },
        {
          "output_type": "execute_result",
          "data": {
            "text/plain": [
              "[{'predictions': array([4.4236536], dtype=float32)},\n",
              " {'predictions': array([5.0859227], dtype=float32)},\n",
              " {'predictions': array([5.7481914], dtype=float32)},\n",
              " {'predictions': array([6.4104605], dtype=float32)},\n",
              " {'predictions': array([7.072729], dtype=float32)},\n",
              " {'predictions': array([7.734998], dtype=float32)},\n",
              " {'predictions': array([8.397267], dtype=float32)},\n",
              " {'predictions': array([9.059536], dtype=float32)},\n",
              " {'predictions': array([9.721806], dtype=float32)},\n",
              " {'predictions': array([10.384074], dtype=float32)}]"
            ]
          },
          "metadata": {
            "tags": []
          },
          "execution_count": 121
        }
      ]
    },
    {
      "cell_type": "code",
      "metadata": {
        "id": "kmu1rfZBKp8o",
        "colab_type": "code",
        "colab": {
          "base_uri": "https://localhost:8080/",
          "height": 125
        },
        "outputId": "af7f960e-ab09-4000-c97d-f4a86f6a34d5"
      },
      "source": [
        "predictions= []\n",
        "for x in estimater.predict(input_fn = input_func_predict):\n",
        "  predictions.append(x['predictions'])"
      ],
      "execution_count": 122,
      "outputs": [
        {
          "output_type": "stream",
          "text": [
            "INFO:tensorflow:Calling model_fn.\n",
            "INFO:tensorflow:Done calling model_fn.\n",
            "INFO:tensorflow:Graph was finalized.\n",
            "INFO:tensorflow:Restoring parameters from /tmp/tmpbqp1p6ii/model.ckpt-1000\n",
            "INFO:tensorflow:Running local_init_op.\n",
            "INFO:tensorflow:Done running local_init_op.\n"
          ],
          "name": "stdout"
        }
      ]
    },
    {
      "cell_type": "code",
      "metadata": {
        "id": "stwC33nbKp6U",
        "colab_type": "code",
        "colab": {
          "base_uri": "https://localhost:8080/",
          "height": 197
        },
        "outputId": "6a8bea3d-804c-4155-a5dd-f8927392bb0e"
      },
      "source": [
        "predictions"
      ],
      "execution_count": 123,
      "outputs": [
        {
          "output_type": "execute_result",
          "data": {
            "text/plain": [
              "[array([4.4236536], dtype=float32),\n",
              " array([5.0859227], dtype=float32),\n",
              " array([5.7481914], dtype=float32),\n",
              " array([6.4104605], dtype=float32),\n",
              " array([7.072729], dtype=float32),\n",
              " array([7.734998], dtype=float32),\n",
              " array([8.397267], dtype=float32),\n",
              " array([9.059536], dtype=float32),\n",
              " array([9.721806], dtype=float32),\n",
              " array([10.384074], dtype=float32)]"
            ]
          },
          "metadata": {
            "tags": []
          },
          "execution_count": 123
        }
      ]
    },
    {
      "cell_type": "code",
      "metadata": {
        "id": "wqO7XWmBKp5D",
        "colab_type": "code",
        "colab": {
          "base_uri": "https://localhost:8080/",
          "height": 297
        },
        "outputId": "c5a0a7c9-dcc3-4a2f-f972-2643ee6ba35a"
      },
      "source": [
        "my_data.sample(n= 250).plot(kind='scatter',x='X-Data',y='Y')\n",
        "plt.plot(np.linspace(0,10,10),predictions,'r')"
      ],
      "execution_count": 126,
      "outputs": [
        {
          "output_type": "execute_result",
          "data": {
            "text/plain": [
              "[<matplotlib.lines.Line2D at 0x7f9ac8b29128>]"
            ]
          },
          "metadata": {
            "tags": []
          },
          "execution_count": 126
        },
        {
          "output_type": "display_data",
          "data": {
            "image/png": "[encoded data removed]",
            "text/plain": [
              "<Figure size 432x288 with 1 Axes>"
            ]
          },
          "metadata": {
            "tags": []
          }
        }
      ]
    },
    {
      "cell_type": "code",
      "metadata": {
        "id": "yTIXWOpcKp2G",
        "colab_type": "code",
        "colab": {}
      },
      "source": [
        ""
      ],
      "execution_count": 0,
      "outputs": []
    },
    {
      "cell_type": "code",
      "metadata": {
        "id": "1mcmhWRJKp0v",
        "colab_type": "code",
        "colab": {}
      },
      "source": [
        ""
      ],
      "execution_count": 0,
      "outputs": []
    },
    {
      "cell_type": "code",
      "metadata": {
        "id": "pehh_8N7KpyZ",
        "colab_type": "code",
        "colab": {}
      },
      "source": [
        ""
      ],
      "execution_count": 0,
      "outputs": []
    },
    {
      "cell_type": "code",
      "metadata": {
        "id": "f0KilS7MKpwN",
        "colab_type": "code",
        "colab": {}
      },
      "source": [
        ""
      ],
      "execution_count": 0,
      "outputs": []
    },
    {
      "cell_type": "code",
      "metadata": {
        "id": "deKnJgGEKpu6",
        "colab_type": "code",
        "colab": {}
      },
      "source": [
        ""
      ],
      "execution_count": 0,
      "outputs": []
    },
    {
      "cell_type": "code",
      "metadata": {
        "id": "R3cTcXP1Kpr7",
        "colab_type": "code",
        "colab": {}
      },
      "source": [
        ""
      ],
      "execution_count": 0,
      "outputs": []
    },
    {
      "cell_type": "code",
      "metadata": {
        "id": "sAC0d3IKKpqU",
        "colab_type": "code",
        "colab": {}
      },
      "source": [
        ""
      ],
      "execution_count": 0,
      "outputs": []
    },
    {
      "cell_type": "code",
      "metadata": {
        "id": "7t03vNA5KpnQ",
        "colab_type": "code",
        "colab": {}
      },
      "source": [
        ""
      ],
      "execution_count": 0,
      "outputs": []
    },
    {
      "cell_type": "code",
      "metadata": {
        "id": "pyAfS19IKoOe",
        "colab_type": "code",
        "outputId": "5b6813d6-9e3d-407d-d7ec-d34b2c687629",
        "colab": {
          "base_uri": "https://localhost:8080/",
          "height": 55
        }
      },
      "source": [
        "import requests\n",
        "from bs4 import BeautifulSoup as soup\n",
        "r = requests.get('https://www.usu.edu/degrees/index.cfm?az=all')\n",
        "html = '\\n'.join(r.text.splitlines()[211:499])\n",
        "html"
      ],
      "execution_count": 0,
      "outputs": [
        {
          "output_type": "execute_result",
          "data": {
            "text/plain": [
              "'<li><a href=\"/degrees/index.cfm?id=212\">Aerospace Studies (Air Force ROTC)</a> </li>\\n<li><a href=\"/degrees/index.cfm?id=80\">Agribusiness</a> (BS)</li>\\n<li><a href=\"/degrees/index.cfm?id=78\">Agricultural Communication</a> (BS)</li>\\n<li><a href=\"/degrees/index.cfm?id=75\">Agricultural Education</a> (BS)</li>\\n<li><a href=\"/degrees/index.cfm?id=77\">Agricultural Machinery Technology</a> (AAS, Cert)</li>\\n<li><a href=\"/degrees/index.cfm?id=1156\">Agricultural Science</a> (AS)</li>\\n<li><a href=\"/degrees/index.cfm?id=84\">Agricultural Systems Technology</a> (BS)</li>\\n<li><a href=\"/degrees/index.cfm?id=200\">Agricultural Systems Technology and Agribusiness (Composite)</a> (BS)</li>\\n<li><a href=\"/degrees/index.cfm?id=96\">Aircraft Maintenance Technician - Airframe and Powerplant</a> (AAS)</li>\\n<li><a href=\"/degrees/index.cfm?id=97\">American Studies</a> (BS, BA)</li>\\n<li><a href=\"/degrees/index.cfm?id=156\">Animal, Dairy, and Veterinary Sciences</a> (BS)</li>\\n<li><a href=\"/degrees/index.cfm?id=146\">Anthropology</a> (BS, BA)</li>\\n<li><a href=\"/degrees/index.cfm?id=85\">Applied Economics</a> (BS)</li>\\n<li><a href=\"/degrees/index.cfm?id=157\">Art</a> (BFA, BA, BS)</li>\\n<li><a href=\"/degrees/index.cfm?id=261\">Art History</a> (BA)</li>\\n<li><a href=\"/degrees/index.cfm?id=166\">Asian Studies</a> (BA)</li>\\n<li><a href=\"/degrees/index.cfm?id=215\">Automotive Technology</a> (AAS, CC)</li>\\n<li><a href=\"/degrees/index.cfm?id=94\">Aviation Technology - Maintenance Management</a> (BS)</li>\\n<li><a href=\"/degrees/index.cfm?id=95\">Aviation Technology - Professional Pilot</a> (BS)</li>\\n<li><a href=\"/degrees/index.cfm?id=181\">Biochemistry</a> (BS)</li>\\n<li><a href=\"/degrees/index.cfm?id=165\">Biological Engineering</a> (BS)</li>\\n<li><a href=\"/degrees/index.cfm?id=167\">Biological Science (Composite Teaching)</a> (BS, BA)</li>\\n<li><a href=\"/degrees/index.cfm?id=86\">Biology</a> (BS, BA)</li>\\n<li><a href=\"/degrees/index.cfm?id=228\">Building Construction and Construction Management Certificate</a> (CC)</li>\\n<li><a href=\"/degrees/index.cfm?id=217\">Business</a> (AB)</li>\\n<li><a href=\"/degrees/index.cfm?id=291\">Business Education</a> (BS, BA)</li>\\n<li><a href=\"/degrees/index.cfm?id=1216\">Certified Nursing Assistant Certificate</a> (CNA)</li>\\n<li><a href=\"/degrees/index.cfm?id=158\">Chemistry</a> (BS, BA)</li>\\n<li><a href=\"/degrees/index.cfm?id=309\">Chemistry Endorsement</a> (Endorsement)</li>\\n<li><a href=\"/degrees/index.cfm?id=169\">Chemistry Teaching</a> (BS)</li>\\n<li><a href=\"/degrees/index.cfm?id=1273\">Chinese</a> (BA)</li>\\n<li><a href=\"/degrees/index.cfm?id=82\">Civil Engineering</a> (BS)</li>\\n<li><a href=\"/degrees/index.cfm?id=1164\">Climate Science</a> (BS)</li>\\n<li><a href=\"/degrees/index.cfm?id=114\">Communication Studies</a> (BS, BA)</li>\\n<li><a href=\"/degrees/index.cfm?id=89\">Communicative Disorders and Deaf Education</a> (BS, BA)</li>\\n<li><a href=\"/degrees/index.cfm?id=192\">Communicative Disorders and Deaf Education (Online 2nd BS)</a> (2nd BS)</li>\\n<li><a href=\"/degrees/index.cfm?id=93\">Computer Engineering</a> (BS)</li>\\n<li><a href=\"/degrees/index.cfm?id=98\">Computer Science</a> (BS)</li>\\n<li><a href=\"/degrees/index.cfm?id=151\">Conservation and Restoration Ecology</a> (BS)</li>\\n<li><a href=\"/degrees/index.cfm?id=218\">Cosmetology</a> (AAS)</li>\\n<li><a href=\"/degrees/index.cfm?id=219\">Criminal Justice</a> (AS)</li>\\n<li><a href=\"/degrees/index.cfm?id=308\">Deafblind Intervener Training Certificate</a> (Cert)</li>\\n<li><a href=\"/degrees/index.cfm?id=221\">Diesel and Heavy Equipment Mechanics</a> (AAS)</li>\\n<li><a href=\"/degrees/index.cfm?id=1258\">Dietetics</a> (BS)</li>\\n<li><a href=\"/degrees/index.cfm?id=1159\">Digital Design Certificate</a> (CP)</li>\\n<li><a href=\"/degrees/index.cfm?id=100\">Early Childhood Education</a> (BS, BA)</li>\\n<li><a href=\"/degrees/index.cfm?id=190\">Early Childhood Education and Deaf Education (Composite)</a> (BS, BA)</li>\\n<li><a href=\"/degrees/index.cfm?id=201\">Early Childhood Education and Special Education (Composite)</a> (BS, BA)</li>\\n<li><a href=\"/degrees/index.cfm?id=170\">Earth Science (Composite Teaching)</a> (BS, BA)</li>\\n<li><a href=\"/degrees/index.cfm?id=91\">Economics</a> (BS, BA)</li>\\n<li><a href=\"/degrees/index.cfm?id=313\">Electrical Apprentice</a> (Apprenticeship)</li>\\n<li><a href=\"/degrees/index.cfm?id=92\">Electrical Engineering</a> (BS)</li>\\n<li><a href=\"/degrees/index.cfm?id=230\">Electronics Certificate</a> (CC)</li>\\n<li><a href=\"/degrees/index.cfm?id=143\">Elementary Education</a> (BS, BA)</li>\\n<li><a href=\"/degrees/index.cfm?id=205\">Elementary Education and Deaf Education (Composite)</a> (BS, BA)</li>\\n<li><a href=\"/degrees/index.cfm?id=206\">Elementary Education and Special Education (Composite)</a> (BS, BA)</li>\\n<li><a href=\"/degrees/index.cfm?id=249\">Engineering Drafting and Design Technology Certificate</a> (CC)</li>\\n<li><a href=\"/degrees/index.cfm?id=159\">English</a> (BA, BS)</li>\\n<li><a href=\"/degrees/index.cfm?id=260\">Environmental and Natural Resource Economics</a> (BS)</li>\\n<li><a href=\"/degrees/index.cfm?id=88\">Environmental Engineering</a> (BS)</li>\\n<li><a href=\"/degrees/index.cfm?id=161\">Environmental Studies</a> (BS)</li>\\n<li><a href=\"/degrees/index.cfm?id=76\">Family and Consumer Sciences Education</a> (BS, BA)</li>\\n<li><a href=\"/degrees/index.cfm?id=102\">Family Life Studies</a> (BS)</li>\\n<li><a href=\"/degrees/index.cfm?id=90\">Finance</a> (BS, BA)</li>\\n<li><a href=\"/degrees/index.cfm?id=149\">Fisheries and Aquatic Sciences</a> (BS)</li>\\n<li><a href=\"/degrees/index.cfm?id=1261\">Food Science</a> (BS)</li>\\n<li><a href=\"/degrees/index.cfm?id=152\">Forest Ecology and Management</a> (BS)</li>\\n<li><a href=\"/degrees/index.cfm?id=115\">French</a> (BA)</li>\\n<li><a href=\"/degrees/index.cfm?id=295\">General Studies</a> (AS, AA)</li>\\n<li><a href=\"/degrees/index.cfm?id=1166\">General Studies: Agriculture</a> (BA, BS)</li>\\n<li><a href=\"/degrees/index.cfm?id=1206\">General Studies: Arts and Humanities (CCA)</a> (BA, BS)</li>\\n<li><a href=\"/degrees/index.cfm?id=1167\">General Studies: Arts and Humanities (CHASS)</a> (BA, BS)</li>\\n<li><a href=\"/degrees/index.cfm?id=1168\">General Studies: Human Services</a> (BA, BS)</li>\\n<li><a href=\"/degrees/index.cfm?id=1169\">General Studies: Natural Resources</a> (BA, BS)</li>\\n<li><a href=\"/degrees/index.cfm?id=1170\">General Studies: Policy and Administration</a> (BA, BS)</li>\\n<li><a href=\"/degrees/index.cfm?id=1171\">General Studies: Science</a> (BA, BS)</li>\\n<li><a href=\"/degrees/index.cfm?id=1172\">General Studies: Social Sciences</a> (BA, BS)</li>\\n<li><a href=\"/degrees/index.cfm?id=1173\">General Studies: Technology</a> (BA, BS)</li>\\n<li><a href=\"/degrees/index.cfm?id=245\">General Technology</a> (AAS)</li>\\n<li><a href=\"/degrees/index.cfm?id=162\">Geography</a> (BS)</li>\\n<li><a href=\"/degrees/index.cfm?id=103\">Geology</a> (BS, BA)</li>\\n<li><a href=\"/degrees/index.cfm?id=116\">German</a> (BA)</li>\\n<li><a href=\"/degrees/index.cfm?id=207\">Gerontology Certificate</a> (Cert)</li>\\n<li><a href=\"/degrees/index.cfm?id=247\">Global Communication</a> (BA)</li>\\n<li><a href=\"/degrees/index.cfm?id=105\">Health Education and Promotion</a> (BS)</li>\\n<li><a href=\"/degrees/index.cfm?id=229\">Heavy Equipment and Trucking Certificate</a> (CC)</li>\\n<li><a href=\"/degrees/index.cfm?id=108\">History</a> (BA, BS)</li>\\n<li><a href=\"/degrees/index.cfm?id=311\">Horticulture</a> (BS)</li>\\n<li><a href=\"/degrees/index.cfm?id=111\">Human Development and Family Studies</a> (BS, BA)</li>\\n<li><a href=\"/degrees/index.cfm?id=1279\">Human Experience Design and Interaction</a> (BS)</li>\\n<li><a href=\"/degrees/index.cfm?id=107\">Human Movement Science</a> (BS)</li>\\n<li><a href=\"/degrees/index.cfm?id=1244\">Integrated Studies</a> (BS, BA)</li>\\n<li><a href=\"/degrees/index.cfm?id=178\">Interdisciplinary Studies</a> (BS, BA)</li>\\n<li><a href=\"/degrees/index.cfm?id=1237\">Interfaith Leadership</a> (CP)</li>\\n<li><a href=\"/degrees/index.cfm?id=109\">Interior Design</a> (BID)</li>\\n<li><a href=\"/degrees/index.cfm?id=120\">International Business</a> (BS, BA)</li>\\n<li><a href=\"/degrees/index.cfm?id=164\">International Studies</a> (BA)</li>\\n<li><a href=\"/degrees/index.cfm?id=223\">IT Support and Web Development</a> (AAS)</li>\\n<li><a href=\"/degrees/index.cfm?id=138\">Journalism</a> (BS, BA)</li>\\n<li><a href=\"/degrees/index.cfm?id=112\">Landscape Architecture</a> (BLA)</li>\\n<li><a href=\"/degrees/index.cfm?id=312\">Landscape Management Certificate</a> (Cert)</li>\\n<li><a href=\"/degrees/index.cfm?id=140\">Law and Constitutional Studies</a> (BS, BA)</li>\\n<li><a href=\"/degrees/index.cfm?id=208\">Law and Society Area Studies Certificate</a> (Cert)</li>\\n<li><a href=\"/degrees/index.cfm?id=177\">Liberal Arts</a> (BA)</li>\\n<li><a href=\"/degrees/index.cfm?id=250\">Machine Tool Technology Certificate</a> (CC)</li>\\n<li><a href=\"/degrees/index.cfm?id=1253\">Management</a> (BA, BS)</li>\\n<li><a href=\"/degrees/index.cfm?id=150\">Management and Restoration of Aquatic Ecosystems</a> (BS)</li>\\n<li><a href=\"/degrees/index.cfm?id=124\">Management Information Systems</a> (BS, BA)</li>\\n<li><a href=\"/degrees/index.cfm?id=118\">Marketing</a> (BS, BA)</li>\\n<li><a href=\"/degrees/index.cfm?id=136\">Mathematics</a> (BS, BA)</li>\\n<li><a href=\"/degrees/index.cfm?id=125\">Mathematics Education</a> (BS, BA)</li>\\n<li><a href=\"/degrees/index.cfm?id=306\">Mathematics- Level II Endorsement</a> (Endorsement)</li>\\n<li><a href=\"/degrees/index.cfm?id=307\">Mathematics- Level III/IV Endorsement</a> (Endorsement)</li>\\n<li><a href=\"/degrees/index.cfm?id=176\">Mathematics/Statistics (Composite)</a> (BS, BA)</li>\\n<li><a href=\"/degrees/index.cfm?id=171\">Mathematics/Statistics Education (Composite)</a> (BS, BA)</li>\\n<li><a href=\"/degrees/index.cfm?id=163\">Mechanical Engineering</a> (BS)</li>\\n<li><a href=\"/degrees/index.cfm?id=231\">Medical Assistant Certificate</a> (CC)</li>\\n<li><a href=\"/degrees/index.cfm?id=248\">Medical Laboratory Technician</a> (AAS)</li>\\n<li><a href=\"/degrees/index.cfm?id=213\">Military Science (Army ROTC Commission)</a> </li>\\n<li><a href=\"/degrees/index.cfm?id=209\">Museum Studies Certificate</a> (Cert)</li>\\n<li><a href=\"/degrees/index.cfm?id=126\">Music</a> (BA, BM)</li>\\n<li><a href=\"/degrees/index.cfm?id=127\">Music Therapy</a> (BS)</li>\\n<li><a href=\"/degrees/index.cfm?id=204\">Nursing</a> (AAS)</li>\\n<li><a href=\"/degrees/index.cfm?id=1187\">Nursing</a> (BSN)</li>\\n<li><a href=\"/degrees/index.cfm?id=1262\">Nutrition Science</a> (BS)</li>\\n<li><a href=\"/degrees/index.cfm?id=233\">Office Computer Systems Certificate</a> (CC)</li>\\n<li><a href=\"/degrees/index.cfm?id=135\">Ornamental Horticulture Certificate</a> (AAS, Cert)</li>\\n<li><a href=\"/degrees/index.cfm?id=290\">Outdoor Product Design and Development</a> (BS)</li>\\n<li><a href=\"/degrees/index.cfm?id=1231\">Pharmacy Technician Certificate</a> (CC)</li>\\n<li><a href=\"/degrees/index.cfm?id=113\">Philosophy</a> (BA, BS)</li>\\n<li><a href=\"/degrees/index.cfm?id=1218\">Phlebotomy Certificate</a> (CC)</li>\\n<li><a href=\"/degrees/index.cfm?id=168\">Physical Science (Composite Teaching)</a> (BS)</li>\\n<li><a href=\"/degrees/index.cfm?id=129\">Physics</a> (BS, BA)</li>\\n<li><a href=\"/degrees/index.cfm?id=130\">Physics Teaching</a> (BS)</li>\\n<li><a href=\"/degrees/index.cfm?id=131\">Plant Science</a> (BS)</li>\\n<li><a href=\"/degrees/index.cfm?id=139\">Political Science</a> (BS, BA)</li>\\n<li><a href=\"/degrees/index.cfm?id=1274\">Portuguese</a> (BA)</li>\\n<li><a href=\"/degrees/index.cfm?id=234\">Practical Nursing Certificate</a> (CC)</li>\\n<li><a href=\"/degrees/index.cfm?id=227\">Professional Bookkeeper Certificate</a> (CC)</li>\\n<li><a href=\"/degrees/index.cfm?id=1158\">Professional Bookkeeping Certificate</a> (CP)</li>\\n<li><a href=\"/degrees/index.cfm?id=141\">Psychology</a> (BS, BA)</li>\\n<li><a href=\"/degrees/index.cfm?id=87\">Public Health</a> (BS)</li>\\n<li><a href=\"/degrees/index.cfm?id=1250\">Ranch Horse Management</a> (CC)</li>\\n<li><a href=\"/degrees/index.cfm?id=153\">Rangeland Ecology and Management</a> (BS)</li>\\n<li><a href=\"/degrees/index.cfm?id=106\">Recreation Administration</a> (BS)</li>\\n<li><a href=\"/degrees/index.cfm?id=99\">Recreation Resource Management</a> (BS)</li>\\n<li><a href=\"/degrees/index.cfm?id=142\">Religious Studies</a> (BS, BA)</li>\\n<li><a href=\"/degrees/index.cfm?id=134\">Residential Landscape Design and Construction</a> (BS)</li>\\n<li><a href=\"/degrees/index.cfm?id=202\">Secondary Education</a> (2nd BS, 2nd BA)</li>\\n<li><a href=\"/degrees/index.cfm?id=289\">Secondary Teacher Education Program Licensure (STEP)</a> (Licensure)</li>\\n<li><a href=\"/degrees/index.cfm?id=216\">Small Business Operations (USU Eastern)</a> (AAS)</li>\\n<li><a href=\"/degrees/index.cfm?id=174\">Social Studies (Composite Teaching)</a> (BS, BA)</li>\\n<li><a href=\"/degrees/index.cfm?id=145\">Social Work</a> (BS, BA)</li>\\n<li><a href=\"/degrees/index.cfm?id=144\">Sociology</a> (BS, BA)</li>\\n<li><a href=\"/degrees/index.cfm?id=133\">Soils and Sustainable Land Systems</a> (BS, BA)</li>\\n<li><a href=\"/degrees/index.cfm?id=117\">Spanish</a> (BA)</li>\\n<li><a href=\"/degrees/index.cfm?id=147\">Special Education</a> (BS, BA)</li>\\n<li><a href=\"/degrees/index.cfm?id=137\">Statistics</a> (BS, BA)</li>\\n<li><a href=\"/degrees/index.cfm?id=1232\">Surgical Technician</a> (AAS)</li>\\n<li><a href=\"/degrees/index.cfm?id=160\">Technology and Engineering Education</a> (BS)</li>\\n<li><a href=\"/degrees/index.cfm?id=1209\">Technology Systems</a> (BS)</li>\\n<li><a href=\"/degrees/index.cfm?id=148\">Theatre Arts</a> (BFA, BA)</li>\\n<li><a href=\"/degrees/index.cfm?id=310\">Utah Mathematics Endorsement Project</a> (Endorsement)</li>\\n<li><a href=\"/degrees/index.cfm?id=1160\">Web Business Certificate</a> (CP)</li>\\n<li><a href=\"/degrees/index.cfm?id=236\">Welding Technology</a> (CC, AAS)</li>\\n<li><a href=\"/degrees/index.cfm?id=154\">Wildlife Ecology and Management</a> (BS)</li>\\n<li><a href=\"/degrees/index.cfm?id=210\">Women and Gender Studies Area Studies Certificate</a> (Cert)</li>\\n</ul>\\n</div>\\n<div class=\"col-sm-6\">\\n<h3 class=\"underlined\">Graduate Degrees</h3>\\n<ul>\\n<li><a href=\"/degrees/index.cfm?id=1\">Accounting</a> (MAcc)</li>\\n<li><a href=\"/degrees/index.cfm?id=286\">Administrative Supervisory Licensure</a> (Licensure)</li>\\n<li><a href=\"/degrees/index.cfm?id=50\">Aerospace Engineering</a> (MS, PhD)</li>\\n<li><a href=\"/degrees/index.cfm?id=259\">Agribusiness</a> (MS)</li>\\n<li><a href=\"/degrees/index.cfm?id=284\">Agricultural Extension and Education</a> (MS)</li>\\n<li><a href=\"/degrees/index.cfm?id=298\">Alternative Teacher Preparation Licensure</a> (Licensure)</li>\\n<li><a href=\"/degrees/index.cfm?id=1271\">Ancient Languages and Cultures</a> (MS, MA)</li>\\n<li><a href=\"/degrees/index.cfm?id=197\">Animal, Dairy, and Veterinary Sciences</a> (MS, PhD)</li>\\n<li><a href=\"/degrees/index.cfm?id=63\">Anthropology</a> (MS)</li>\\n<li><a href=\"/degrees/index.cfm?id=7\">Applied Economics</a> (MS, MAE)</li>\\n<li><a href=\"/degrees/index.cfm?id=35\">Applied Environmental Geoscience</a> (MS)</li>\\n<li><a href=\"/degrees/index.cfm?id=1178\">Archiving and Public Programming Certificate</a> (Cert)</li>\\n<li><a href=\"/degrees/index.cfm?id=9\">Art</a> (MFA)</li>\\n<li><a href=\"/degrees/index.cfm?id=17\">Audiology</a> (AuD)</li>\\n<li><a href=\"/degrees/index.cfm?id=1223\">Aviation Science</a> (MAS)</li>\\n<li><a href=\"/degrees/index.cfm?id=14\">Biochemistry</a> (MS, PhD)</li>\\n<li><a href=\"/degrees/index.cfm?id=10\">Biological Engineering</a> (MS, PhD)</li>\\n<li><a href=\"/degrees/index.cfm?id=12\">Biology</a> (MS, PhD)</li>\\n<li><a href=\"/degrees/index.cfm?id=31\">Bioregional Planning</a> (MS)</li>\\n<li><a href=\"/degrees/index.cfm?id=74\">Business Administration</a> (MBA)</li>\\n<li><a href=\"/degrees/index.cfm?id=278\">Career and Technical Education</a> (MEd)</li>\\n<li><a href=\"/degrees/index.cfm?id=13\">Chemistry</a> (MS, PhD)</li>\\n<li><a href=\"/degrees/index.cfm?id=15\">Civil and Environmental Engineering</a> (MS, ME, PhD)</li>\\n<li><a href=\"/degrees/index.cfm?id=56\">Climate Sciences</a> (MS, PhD)</li>\\n<li><a href=\"/degrees/index.cfm?id=1267\">Communication Sciences</a> (MS)</li>\\n<li><a href=\"/degrees/index.cfm?id=186\">Communication Studies</a> (MA, MS)</li>\\n<li><a href=\"/degrees/index.cfm?id=16\">Communicative Disorders and Deaf Education</a> (MS, MA, MEd)</li>\\n<li><a href=\"/degrees/index.cfm?id=22\">Computer Engineering</a> (MS)</li>\\n<li><a href=\"/degrees/index.cfm?id=18\">Computer Science</a> (MS, MCS, PhD)</li>\\n<li><a href=\"/degrees/index.cfm?id=196\">Curriculum and Instruction</a> (MEd, MS, EdS)</li>\\n<li><a href=\"/degrees/index.cfm?id=1210\">Data Analytics</a> (MDATA)</li>\\n<li><a href=\"/degrees/index.cfm?id=1268\">Data Science</a> (MS)</li>\\n<li><a href=\"/degrees/index.cfm?id=292\">Deaf Education - Listening and Spoken Language Endorsement</a> (Endorsement)</li>\\n<li><a href=\"/degrees/index.cfm?id=281\">Dietetic Internship Certificate</a> (Cert)</li>\\n<li><a href=\"/degrees/index.cfm?id=54\">Dietetics Administration</a> (MDA)</li>\\n<li><a href=\"/degrees/index.cfm?id=67\">Disability Disciplines</a> (PhD)</li>\\n<li><a href=\"/degrees/index.cfm?id=303\">Dual Language Immersion Endorsement</a> (Endorsement)</li>\\n<li><a href=\"/degrees/index.cfm?id=304\">Early Childhood Endorsement</a> (Endorsement)</li>\\n<li><a href=\"/degrees/index.cfm?id=19\">Ecology</a> (MS, PhD)</li>\\n<li><a href=\"/degrees/index.cfm?id=188\">Economics</a> (MS, MA)</li>\\n<li><a href=\"/degrees/index.cfm?id=8\">Economics (Applied Economics Department)</a> (PhD)</li>\\n<li><a href=\"/degrees/index.cfm?id=244\">Economics and Statistics</a> (MS)</li>\\n<li><a href=\"/degrees/index.cfm?id=20\">Education</a> (PhD, EdD)</li>\\n<li><a href=\"/degrees/index.cfm?id=1174\">Educational Technology and Learning Sciences</a> (MEd)</li>\\n<li><a href=\"/degrees/index.cfm?id=21\">Electrical Engineering</a> (MS, PhD)</li>\\n<li><a href=\"/degrees/index.cfm?id=300\">Elementary Mathematics Endorsement</a> (Endorsement)</li>\\n<li><a href=\"/degrees/index.cfm?id=1277\">Elementary Mathematics Specialist (EMS)</a> (Cert)</li>\\n<li><a href=\"/degrees/index.cfm?id=198\">Engineering</a> (ME)</li>\\n<li><a href=\"/degrees/index.cfm?id=184\">Engineering Education</a> (PhD)</li>\\n<li><a href=\"/degrees/index.cfm?id=25\">English</a> (MA, MS)</li>\\n<li><a href=\"/degrees/index.cfm?id=299\">English as a Second Language Endorsement</a> (Endorsement)</li>\\n<li><a href=\"/degrees/index.cfm?id=30\">Environment and Society</a> (MS, PhD)</li>\\n<li><a href=\"/degrees/index.cfm?id=285\">Family and Consumer Science Education and Extension</a> (MS)</li>\\n<li><a href=\"/degrees/index.cfm?id=242\">Financial Economics</a> (MS)</li>\\n<li><a href=\"/degrees/index.cfm?id=70\">Fisheries Biology</a> (MS, PhD)</li>\\n<li><a href=\"/degrees/index.cfm?id=277\">Fitness Promotion</a> (MFP)</li>\\n<li><a href=\"/degrees/index.cfm?id=26\">Folklore and American Studies</a> (MA, MS)</li>\\n<li><a href=\"/degrees/index.cfm?id=53\">Food Safety and Quality</a> (MFSQ)</li>\\n<li><a href=\"/degrees/index.cfm?id=71\">Forestry</a> (MS, PhD)</li>\\n<li><a href=\"/degrees/index.cfm?id=1180\">Geographic Information Science (GIS) Certificate</a> (Cert)</li>\\n<li><a href=\"/degrees/index.cfm?id=29\">Geography</a> (MS)</li>\\n<li><a href=\"/degrees/index.cfm?id=34\">Geology</a> (MS, PhD)</li>\\n<li><a href=\"/degrees/index.cfm?id=305\">Gifted and Talented Endorsement</a> (Endorsement)</li>\\n<li><a href=\"/degrees/index.cfm?id=36\">Health and Human Movement</a> (MS)</li>\\n<li><a href=\"/degrees/index.cfm?id=1203\">Health Education and Promotion</a> (MPH)</li>\\n<li><a href=\"/degrees/index.cfm?id=38\">History</a> (MA, MS)</li>\\n<li><a href=\"/degrees/index.cfm?id=59\">Horticulture</a> (MPSH)</li>\\n<li><a href=\"/degrees/index.cfm?id=32\">Human Development and Family Studies</a> (MS)</li>\\n<li><a href=\"/degrees/index.cfm?id=33\">Human Development and Family Studies</a> (MHDFS, PhD)</li>\\n<li><a href=\"/degrees/index.cfm?id=43\">Human Resources</a> (MHR)</li>\\n<li><a href=\"/degrees/index.cfm?id=47\">Industrial Mathematics</a> (MS)</li>\\n<li><a href=\"/degrees/index.cfm?id=257\">Instructional Leadership</a> (MEd)</li>\\n<li><a href=\"/degrees/index.cfm?id=39\">Instructional Technology and Learning Sciences</a> (MA, MS, EdS, PhD)</li>\\n<li><a href=\"/degrees/index.cfm?id=11\">Irrigation Engineering</a> (MS, PhD)</li>\\n<li><a href=\"/degrees/index.cfm?id=41\">Landscape Architecture</a> (PhD, MLA)</li>\\n<li><a href=\"/degrees/index.cfm?id=265\">Landscape Architecture (Advanced Professional Degree)</a> (MLA)</li>\\n<li><a href=\"/degrees/index.cfm?id=44\">Management Information Systems</a> (MMIS)</li>\\n<li><a href=\"/degrees/index.cfm?id=183\">Marriage and Family Therapy</a> (MMFT)</li>\\n<li><a href=\"/degrees/index.cfm?id=1151\">Master of Technical Communication</a> (MTC)</li>\\n<li><a href=\"/degrees/index.cfm?id=48\">Mathematical Sciences</a> (PhD)</li>\\n<li><a href=\"/degrees/index.cfm?id=45\">Mathematics</a> (MS)</li>\\n<li><a href=\"/degrees/index.cfm?id=1225\">Mathematics (Professional degree)</a> (MMath)</li>\\n<li><a href=\"/degrees/index.cfm?id=49\">Mechanical Engineering</a> (MS, PhD)</li>\\n<li><a href=\"/degrees/index.cfm?id=51\">Music</a> (MM)</li>\\n<li><a href=\"/degrees/index.cfm?id=194\">National Environmental Policy Act (NEPA) Certificate</a> (Cert)</li>\\n<li><a href=\"/degrees/index.cfm?id=187\">Natural Resources</a> (MNR)</li>\\n<li><a href=\"/degrees/index.cfm?id=195\">Natural Resources and Environmental Education (NREE)</a> (Cert)</li>\\n<li><a href=\"/degrees/index.cfm?id=302\">Neuroscience</a> (PhD)</li>\\n<li><a href=\"/degrees/index.cfm?id=52\">Nutrition and Food Sciences</a> (MS, PhD)</li>\\n<li><a href=\"/degrees/index.cfm?id=37\">Physical and Sport Education</a> (MEd)</li>\\n<li><a href=\"/degrees/index.cfm?id=55\">Physics</a> (MS, PhD)</li>\\n<li><a href=\"/degrees/index.cfm?id=57\">Plant Science</a> (MS, PhD)</li>\\n<li><a href=\"/degrees/index.cfm?id=60\">Political Science</a> (MS, MA)</li>\\n<li><a href=\"/degrees/index.cfm?id=61\">Psychology</a> (EdS, PhD, MEd)</li>\\n<li><a href=\"/degrees/index.cfm?id=1202\">Public Health Nutrition</a> (MPH)</li>\\n<li><a href=\"/degrees/index.cfm?id=72\">Range Science</a> (MS, PhD)</li>\\n<li><a href=\"/degrees/index.cfm?id=301\">Reading Endorsement</a> (Endorsement)</li>\\n<li><a href=\"/degrees/index.cfm?id=28\">Recreation Resource Management</a> (MS)</li>\\n<li><a href=\"/degrees/index.cfm?id=66\">Rehabilitation Counseling</a> (MRC)</li>\\n<li><a href=\"/degrees/index.cfm?id=243\">Rehabilitation Counseling Certificate</a> (Cert)</li>\\n<li><a href=\"/degrees/index.cfm?id=297\">School Library Media Administration Endorsement</a> (Endorsement)</li>\\n<li><a href=\"/degrees/index.cfm?id=42\">Second Language Teaching</a> (MSLT)</li>\\n<li><a href=\"/degrees/index.cfm?id=2\">Social Work</a> (MSW)</li>\\n<li><a href=\"/degrees/index.cfm?id=64\">Sociology</a> (MS, PhD)</li>\\n<li><a href=\"/degrees/index.cfm?id=58\">Soil Science</a> (MS, PhD)</li>\\n<li><a href=\"/degrees/index.cfm?id=65\">Special Education</a> (MS, MEd, EdS)</li>\\n<li><a href=\"/degrees/index.cfm?id=46\">Statistics</a> (MS)</li>\\n<li><a href=\"/degrees/index.cfm?id=27\">Technical Communication and Rhetoric</a> (PhD)</li>\\n<li><a href=\"/degrees/index.cfm?id=182\">Technology and Engineering Education</a> (MS)</li>\\n<li><a href=\"/degrees/index.cfm?id=68\">Theatre Arts</a> (MFA)</li>\\n<li><a href=\"/degrees/index.cfm?id=179\">Toxicology</a> (MS, PhD)</li>\\n<li><a href=\"/degrees/index.cfm?id=211\">Veterinary Medicine</a> (DVM)</li>\\n<li><a href=\"/degrees/index.cfm?id=1204\">Veterinary Public Health</a> (MPH)</li>\\n<li><a href=\"/degrees/index.cfm?id=69\">Watershed Science</a> (MS, PhD)</li>\\n<li><a href=\"/degrees/index.cfm?id=73\">Wildlife Biology</a> (MS, PhD)</li>\\n<li><a href=\"/degrees/index.cfm?id=280\">Women and Gender Studies Certificate</a> (Cert)</li>'"
            ]
          },
          "metadata": {
            "tags": []
          },
          "execution_count": 3
        }
      ]
    },
    {
      "cell_type": "code",
      "metadata": {
        "id": "oQqz1C0JRZri",
        "colab_type": "code",
        "outputId": "8ebc71b2-5860-4d33-d94c-16dcf19655d4",
        "colab": {
          "base_uri": "https://localhost:8080/",
          "height": 71
        }
      },
      "source": [
        "d = [[getattr(c, 'text', c).strip() for c in i] for i in soup(html, 'html.parser').find_all('li')]\n",
        "d[:3]"
      ],
      "execution_count": 0,
      "outputs": [
        {
          "output_type": "execute_result",
          "data": {
            "text/plain": [
              "[['Aerospace Studies (Air Force ROTC)', ''],\n",
              " ['Agribusiness', '(BS)'],\n",
              " ['Agricultural Communication', '(BS)']]"
            ]
          },
          "metadata": {
            "tags": []
          },
          "execution_count": 4
        }
      ]
    },
    {
      "cell_type": "code",
      "metadata": {
        "id": "Wwplsk1WSW2p",
        "colab_type": "code",
        "outputId": "c36326b3-5ae8-4ebe-9f16-bd18b6881175",
        "colab": {
          "base_uri": "https://localhost:8080/",
          "height": 1000
        }
      },
      "source": [
        "deg_list = [item[1] for item in d]\n",
        "deg_list"
      ],
      "execution_count": 0,
      "outputs": [
        {
          "output_type": "execute_result",
          "data": {
            "text/plain": [
              "['',\n",
              " '(BS)',\n",
              " '(BS)',\n",
              " '(BS)',\n",
              " '(AAS, Cert)',\n",
              " '(AS)',\n",
              " '(BS)',\n",
              " '(BS)',\n",
              " '(AAS)',\n",
              " '(BS, BA)',\n",
              " '(BS)',\n",
              " '(BS, BA)',\n",
              " '(BS)',\n",
              " '(BFA, BA, BS)',\n",
              " '(BA)',\n",
              " '(BA)',\n",
              " '(AAS, CC)',\n",
              " '(BS)',\n",
              " '(BS)',\n",
              " '(BS)',\n",
              " '(BS)',\n",
              " '(BS, BA)',\n",
              " '(BS, BA)',\n",
              " '(CC)',\n",
              " '(AB)',\n",
              " '(BS, BA)',\n",
              " '(CNA)',\n",
              " '(BS, BA)',\n",
              " '(Endorsement)',\n",
              " '(BS)',\n",
              " '(BA)',\n",
              " '(BS)',\n",
              " '(BS)',\n",
              " '(BS, BA)',\n",
              " '(BS, BA)',\n",
              " '(2nd BS)',\n",
              " '(BS)',\n",
              " '(BS)',\n",
              " '(BS)',\n",
              " '(AAS)',\n",
              " '(AS)',\n",
              " '(Cert)',\n",
              " '(AAS)',\n",
              " '(BS)',\n",
              " '(CP)',\n",
              " '(BS, BA)',\n",
              " '(BS, BA)',\n",
              " '(BS, BA)',\n",
              " '(BS, BA)',\n",
              " '(BS, BA)',\n",
              " '(Apprenticeship)',\n",
              " '(BS)',\n",
              " '(CC)',\n",
              " '(BS, BA)',\n",
              " '(BS, BA)',\n",
              " '(BS, BA)',\n",
              " '(CC)',\n",
              " '(BA, BS)',\n",
              " '(BS)',\n",
              " '(BS)',\n",
              " '(BS)',\n",
              " '(BS, BA)',\n",
              " '(BS)',\n",
              " '(BS, BA)',\n",
              " '(BS)',\n",
              " '(BS)',\n",
              " '(BS)',\n",
              " '(BA)',\n",
              " '(AS, AA)',\n",
              " '(BA, BS)',\n",
              " '(BA, BS)',\n",
              " '(BA, BS)',\n",
              " '(BA, BS)',\n",
              " '(BA, BS)',\n",
              " '(BA, BS)',\n",
              " '(BA, BS)',\n",
              " '(BA, BS)',\n",
              " '(BA, BS)',\n",
              " '(AAS)',\n",
              " '(BS)',\n",
              " '(BS, BA)',\n",
              " '(BA)',\n",
              " '(Cert)',\n",
              " '(BA)',\n",
              " '(BS)',\n",
              " '(CC)',\n",
              " '(BA, BS)',\n",
              " '(BS)',\n",
              " '(BS, BA)',\n",
              " '(BS)',\n",
              " '(BS)',\n",
              " '(BS, BA)',\n",
              " '(BS, BA)',\n",
              " '(CP)',\n",
              " '(BID)',\n",
              " '(BS, BA)',\n",
              " '(BA)',\n",
              " '(AAS)',\n",
              " '(BS, BA)',\n",
              " '(BLA)',\n",
              " '(Cert)',\n",
              " '(BS, BA)',\n",
              " '(Cert)',\n",
              " '(BA)',\n",
              " '(CC)',\n",
              " '(BA, BS)',\n",
              " '(BS)',\n",
              " '(BS, BA)',\n",
              " '(BS, BA)',\n",
              " '(BS, BA)',\n",
              " '(BS, BA)',\n",
              " '(Endorsement)',\n",
              " '(Endorsement)',\n",
              " '(BS, BA)',\n",
              " '(BS, BA)',\n",
              " '(BS)',\n",
              " '(CC)',\n",
              " '(AAS)',\n",
              " '',\n",
              " '(Cert)',\n",
              " '(BA, BM)',\n",
              " '(BS)',\n",
              " '(AAS)',\n",
              " '(BSN)',\n",
              " '(BS)',\n",
              " '(CC)',\n",
              " '(AAS, Cert)',\n",
              " '(BS)',\n",
              " '(CC)',\n",
              " '(BA, BS)',\n",
              " '(CC)',\n",
              " '(BS)',\n",
              " '(BS, BA)',\n",
              " '(BS)',\n",
              " '(BS)',\n",
              " '(BS, BA)',\n",
              " '(BA)',\n",
              " '(CC)',\n",
              " '(CC)',\n",
              " '(CP)',\n",
              " '(BS, BA)',\n",
              " '(BS)',\n",
              " '(CC)',\n",
              " '(BS)',\n",
              " '(BS)',\n",
              " '(BS)',\n",
              " '(BS, BA)',\n",
              " '(BS)',\n",
              " '(2nd BS, 2nd BA)',\n",
              " '(Licensure)',\n",
              " '(AAS)',\n",
              " '(BS, BA)',\n",
              " '(BS, BA)',\n",
              " '(BS, BA)',\n",
              " '(BS, BA)',\n",
              " '(BA)',\n",
              " '(BS, BA)',\n",
              " '(BS, BA)',\n",
              " '(AAS)',\n",
              " '(BS)',\n",
              " '(BS)',\n",
              " '(BFA, BA)',\n",
              " '(Endorsement)',\n",
              " '(CP)',\n",
              " '(CC, AAS)',\n",
              " '(BS)',\n",
              " '(Cert)',\n",
              " '(MAcc)',\n",
              " '(Licensure)',\n",
              " '(MS, PhD)',\n",
              " '(MS)',\n",
              " '(MS)',\n",
              " '(Licensure)',\n",
              " '(MS, MA)',\n",
              " '(MS, PhD)',\n",
              " '(MS)',\n",
              " '(MS, MAE)',\n",
              " '(MS)',\n",
              " '(Cert)',\n",
              " '(MFA)',\n",
              " '(AuD)',\n",
              " '(MAS)',\n",
              " '(MS, PhD)',\n",
              " '(MS, PhD)',\n",
              " '(MS, PhD)',\n",
              " '(MS)',\n",
              " '(MBA)',\n",
              " '(MEd)',\n",
              " '(MS, PhD)',\n",
              " '(MS, ME, PhD)',\n",
              " '(MS, PhD)',\n",
              " '(MS)',\n",
              " '(MA, MS)',\n",
              " '(MS, MA, MEd)',\n",
              " '(MS)',\n",
              " '(MS, MCS, PhD)',\n",
              " '(MEd, MS, EdS)',\n",
              " '(MDATA)',\n",
              " '(MS)',\n",
              " '(Endorsement)',\n",
              " '(Cert)',\n",
              " '(MDA)',\n",
              " '(PhD)',\n",
              " '(Endorsement)',\n",
              " '(Endorsement)',\n",
              " '(MS, PhD)',\n",
              " '(MS, MA)',\n",
              " '(PhD)',\n",
              " '(MS)',\n",
              " '(PhD, EdD)',\n",
              " '(MEd)',\n",
              " '(MS, PhD)',\n",
              " '(Endorsement)',\n",
              " '(Cert)',\n",
              " '(ME)',\n",
              " '(PhD)',\n",
              " '(MA, MS)',\n",
              " '(Endorsement)',\n",
              " '(MS, PhD)',\n",
              " '(MS)',\n",
              " '(MS)',\n",
              " '(MS, PhD)',\n",
              " '(MFP)',\n",
              " '(MA, MS)',\n",
              " '(MFSQ)',\n",
              " '(MS, PhD)',\n",
              " '(Cert)',\n",
              " '(MS)',\n",
              " '(MS, PhD)',\n",
              " '(Endorsement)',\n",
              " '(MS)',\n",
              " '(MPH)',\n",
              " '(MA, MS)',\n",
              " '(MPSH)',\n",
              " '(MS)',\n",
              " '(MHDFS, PhD)',\n",
              " '(MHR)',\n",
              " '(MS)',\n",
              " '(MEd)',\n",
              " '(MA, MS, EdS, PhD)',\n",
              " '(MS, PhD)',\n",
              " '(PhD, MLA)',\n",
              " '(MLA)',\n",
              " '(MMIS)',\n",
              " '(MMFT)',\n",
              " '(MTC)',\n",
              " '(PhD)',\n",
              " '(MS)',\n",
              " '(MMath)',\n",
              " '(MS, PhD)',\n",
              " '(MM)',\n",
              " '(Cert)',\n",
              " '(MNR)',\n",
              " '(Cert)',\n",
              " '(PhD)',\n",
              " '(MS, PhD)',\n",
              " '(MEd)',\n",
              " '(MS, PhD)',\n",
              " '(MS, PhD)',\n",
              " '(MS, MA)',\n",
              " '(EdS, PhD, MEd)',\n",
              " '(MPH)',\n",
              " '(MS, PhD)',\n",
              " '(Endorsement)',\n",
              " '(MS)',\n",
              " '(MRC)',\n",
              " '(Cert)',\n",
              " '(Endorsement)',\n",
              " '(MSLT)',\n",
              " '(MSW)',\n",
              " '(MS, PhD)',\n",
              " '(MS, PhD)',\n",
              " '(MS, MEd, EdS)',\n",
              " '(MS)',\n",
              " '(PhD)',\n",
              " '(MS)',\n",
              " '(MFA)',\n",
              " '(MS, PhD)',\n",
              " '(DVM)',\n",
              " '(MPH)',\n",
              " '(MS, PhD)',\n",
              " '(MS, PhD)',\n",
              " '(Cert)']"
            ]
          },
          "metadata": {
            "tags": []
          },
          "execution_count": 13
        }
      ]
    },
    {
      "cell_type": "code",
      "metadata": {
        "id": "CnBG6VFqS5FW",
        "colab_type": "code",
        "outputId": "33ce1dcf-57ec-4d59-f5e9-93b9bc238c53",
        "colab": {
          "base_uri": "https://localhost:8080/",
          "height": 1000
        }
      },
      "source": [
        "deg_list = ' '.join(deg_list).replace(')','').split()\n",
        "myset = list(set(deg_list))\n",
        "for i in myset:\n",
        "  print(i+'\\n')"
      ],
      "execution_count": 0,
      "outputs": [
        {
          "output_type": "stream",
          "text": [
            "AB\n",
            "\n",
            "BID\n",
            "\n",
            "AS,\n",
            "\n",
            "MFSQ\n",
            "\n",
            "ME\n",
            "\n",
            "Apprenticeship\n",
            "\n",
            "BFA,\n",
            "\n",
            "ME,\n",
            "\n",
            "AuD\n",
            "\n",
            "MRC\n",
            "\n",
            "MPH\n",
            "\n",
            "CP\n",
            "\n",
            "MDATA\n",
            "\n",
            "AAS\n",
            "\n",
            "MS,\n",
            "\n",
            "2nd\n",
            "\n",
            "EdS,\n",
            "\n",
            "EdD\n",
            "\n",
            "MTC\n",
            "\n",
            "MFA\n",
            "\n",
            "EdS\n",
            "\n",
            "MA\n",
            "\n",
            "MAE\n",
            "\n",
            "BLA\n",
            "\n",
            "Endorsement\n",
            "\n",
            "MAcc\n",
            "\n",
            "PhD,\n",
            "\n",
            "MMFT\n",
            "\n",
            "MFP\n",
            "\n",
            "AAS,\n",
            "\n",
            "MSLT\n",
            "\n",
            "CC,\n",
            "\n",
            "BSN\n",
            "\n",
            "MNR\n",
            "\n",
            "MDA\n",
            "\n",
            "MMIS\n",
            "\n",
            "BA\n",
            "\n",
            "MHR\n",
            "\n",
            "MSW\n",
            "\n",
            "BS\n",
            "\n",
            "BM\n",
            "\n",
            "AA\n",
            "\n",
            "BA,\n",
            "\n",
            "CNA\n",
            "\n",
            "PhD\n",
            "\n",
            "MBA\n",
            "\n",
            "MHDFS,\n",
            "\n",
            "Licensure\n",
            "\n",
            "BS,\n",
            "\n",
            "MAS\n",
            "\n",
            "DVM\n",
            "\n",
            "MEd\n",
            "\n",
            "MLA\n",
            "\n",
            "MS\n",
            "\n",
            "Cert\n",
            "\n",
            "MCS,\n",
            "\n",
            "MMath\n",
            "\n",
            "MEd,\n",
            "\n",
            "AS\n",
            "\n",
            "MA,\n",
            "\n",
            "CC\n",
            "\n",
            "MPSH\n",
            "\n",
            "MM\n",
            "\n"
          ],
          "name": "stdout"
        }
      ]
    },
    {
      "cell_type": "code",
      "metadata": {
        "id": "6NurO_tOK3nM",
        "colab_type": "code",
        "colab": {}
      },
      "source": [
        ""
      ],
      "execution_count": 0,
      "outputs": []
    }
  ]
}