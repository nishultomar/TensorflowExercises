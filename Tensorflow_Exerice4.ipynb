{
  "nbformat": 4,
  "nbformat_minor": 0,
  "metadata": {
    "colab": {
      "name": "Tensorflow Exerice4.ipynb",
      "provenance": [],
      "authorship_tag": "ABX9TyMAf33UoB0dLANwLjXDUQyO",
      "include_colab_link": true
    },
    "kernelspec": {
      "name": "python3",
      "display_name": "Python 3"
    }
  },
  "cells": [
    {
      "cell_type": "markdown",
      "metadata": {
        "id": "view-in-github",
        "colab_type": "text"
      },
      "source": [
        "<a href=\"https://colab.research.google.com/github/nishultomar/TensorflowExercises/blob/master/Tensorflow_Exerice4.ipynb\" target=\"_parent\"><img src=\"https://colab.research.google.com/assets/colab-badge.svg\" alt=\"Open In Colab\"/></a>"
      ]
    },
    {
      "cell_type": "code",
      "metadata": {
        "id": "B5PDy9bcWO6f",
        "colab_type": "code",
        "colab": {
          "base_uri": "https://localhost:8080/",
          "height": 64
        },
        "outputId": "2188be8d-0e56-4eaa-8645-f56c1a130371"
      },
      "source": [
        "import tensorflow as tf\n",
        "import numpy as np\n"
      ],
      "execution_count": 1,
      "outputs": [
        {
          "output_type": "display_data",
          "data": {
            "text/html": [
              "<p style=\"color: red;\">\n",
              "The default version of TensorFlow in Colab will soon switch to TensorFlow 2.x.<br>\n",
              "We recommend you <a href=\"https://www.tensorflow.org/guide/migrate\" target=\"_blank\">upgrade</a> now \n",
              "or ensure your notebook will continue to use TensorFlow 1.x via the <code>%tensorflow_version 1.x</code> magic:\n",
              "<a href=\"https://colab.research.google.com/notebooks/tensorflow_version.ipynb\" target=\"_blank\">more info</a>.</p>\n"
            ],
            "text/plain": [
              "<IPython.core.display.HTML object>"
            ]
          },
          "metadata": {
            "tags": []
          }
        }
      ]
    },
    {
      "cell_type": "markdown",
      "metadata": {
        "id": "AhIDyethkT6j",
        "colab_type": "text"
      },
      "source": [
        "**Creating Perceptron**"
      ]
    },
    {
      "cell_type": "code",
      "metadata": {
        "id": "LUY-LTVlZAPt",
        "colab_type": "code",
        "colab": {}
      },
      "source": [
        "np.random.seed(101)\n",
        "tf.set_random_seed(101)"
      ],
      "execution_count": 0,
      "outputs": []
    },
    {
      "cell_type": "code",
      "metadata": {
        "id": "wZ5MV8qaZLuf",
        "colab_type": "code",
        "colab": {
          "base_uri": "https://localhost:8080/",
          "height": 107
        },
        "outputId": "7c8b2d54-6886-48e9-9fd0-c12fc6bf5407"
      },
      "source": [
        "rand_a=np.random.uniform(0,100,(5,5))\n",
        "rand_a"
      ],
      "execution_count": 4,
      "outputs": [
        {
          "output_type": "execute_result",
          "data": {
            "text/plain": [
              "array([[51.63986277, 57.06675869,  2.84742265, 17.15216562, 68.52769817],\n",
              "       [83.38968626, 30.69662197, 89.36130797, 72.15438618, 18.99389542],\n",
              "       [55.42275911, 35.2131954 , 18.18924027, 78.56017619, 96.54832224],\n",
              "       [23.23536618,  8.35614337, 60.35484223, 72.89927573, 27.62388285],\n",
              "       [68.53063288, 51.78674742,  4.84845374, 13.78692376, 18.69674261]])"
            ]
          },
          "metadata": {
            "tags": []
          },
          "execution_count": 4
        }
      ]
    },
    {
      "cell_type": "code",
      "metadata": {
        "id": "mg1UweNfZddE",
        "colab_type": "code",
        "colab": {
          "base_uri": "https://localhost:8080/",
          "height": 107
        },
        "outputId": "782f5d51-d01b-48aa-8ce0-0ecf99518711"
      },
      "source": [
        "rand_b=np.random.uniform(0,100,(5,1))\n",
        "rand_b"
      ],
      "execution_count": 5,
      "outputs": [
        {
          "output_type": "execute_result",
          "data": {
            "text/plain": [
              "array([[99.43179012],\n",
              "       [52.06653967],\n",
              "       [57.87895355],\n",
              "       [73.48190583],\n",
              "       [54.19617722]])"
            ]
          },
          "metadata": {
            "tags": []
          },
          "execution_count": 5
        }
      ]
    },
    {
      "cell_type": "code",
      "metadata": {
        "id": "klLhFWcpZl67",
        "colab_type": "code",
        "colab": {}
      },
      "source": [
        "a = tf.placeholder(tf.float32)\n",
        "b = tf.placeholder(tf.float32)"
      ],
      "execution_count": 0,
      "outputs": []
    },
    {
      "cell_type": "code",
      "metadata": {
        "id": "dCqQiysFZ0o1",
        "colab_type": "code",
        "colab": {}
      },
      "source": [
        "add=a+b"
      ],
      "execution_count": 0,
      "outputs": []
    },
    {
      "cell_type": "code",
      "metadata": {
        "id": "MuXHGEoBZ2bZ",
        "colab_type": "code",
        "colab": {}
      },
      "source": [
        "mub=a*b"
      ],
      "execution_count": 0,
      "outputs": []
    },
    {
      "cell_type": "code",
      "metadata": {
        "id": "l-nstSYeZ4SP",
        "colab_type": "code",
        "colab": {
          "base_uri": "https://localhost:8080/",
          "height": 233
        },
        "outputId": "4ecdc115-be48-4a08-9039-0976bd2b20a7"
      },
      "source": [
        "with tf.Session() as sess:\n",
        "  add_result = sess.run(add,feed_dict={a:rand_a,b:rand_b})\n",
        "  print(add_result)\n",
        "  print(\"\\n\")\n",
        "\n",
        "  mult = sess.run(mub,feed_dict={a:rand_a,b:rand_b})\n",
        "  print(mult)"
      ],
      "execution_count": 14,
      "outputs": [
        {
          "output_type": "stream",
          "text": [
            "[[151.07166  156.49855  102.27921  116.58396  167.95949 ]\n",
            " [135.45622   82.76316  141.42784  124.22093   71.06043 ]\n",
            " [113.30171   93.09215   76.06819  136.43912  154.42728 ]\n",
            " [ 96.71727   81.83804  133.83675  146.38118  101.10579 ]\n",
            " [122.72681  105.982925  59.044632  67.9831    72.89292 ]]\n",
            "\n",
            "\n",
            "[[5134.644   5674.25     283.12433 1705.4707  6813.8315 ]\n",
            " [4341.8125  1598.267   4652.734   3756.8293   988.94635]\n",
            " [3207.8113  2038.1029  1052.7742  4546.9805  5588.1157 ]\n",
            " [1707.379    614.02527 4434.989   5356.7773  2029.8555 ]\n",
            " [3714.0984  2806.6438   262.76764  747.19855 1013.292  ]]\n"
          ],
          "name": "stdout"
        }
      ]
    },
    {
      "cell_type": "code",
      "metadata": {
        "id": "HYPEc5bPa8lE",
        "colab_type": "code",
        "colab": {}
      },
      "source": [
        ""
      ],
      "execution_count": 0,
      "outputs": []
    }
  ]
}