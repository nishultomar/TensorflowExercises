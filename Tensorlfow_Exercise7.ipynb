{
  "nbformat": 4,
  "nbformat_minor": 0,
  "metadata": {
    "colab": {
      "name": "Tensorlfow Exercise7.ipynb",
      "provenance": [],
      "collapsed_sections": [],
      "authorship_tag": "ABX9TyNGIxAVNOFgeaLwk9SUQXBk",
      "include_colab_link": true
    },
    "kernelspec": {
      "name": "python3",
      "display_name": "Python 3"
    }
  },
  "cells": [
    {
      "cell_type": "markdown",
      "metadata": {
        "id": "view-in-github",
        "colab_type": "text"
      },
      "source": [
        "<a href=\"https://colab.research.google.com/github/nishultomar/TensorflowExercises/blob/master/Tensorlfow_Exercise7.ipynb\" target=\"_parent\"><img src=\"https://colab.research.google.com/assets/colab-badge.svg\" alt=\"Open In Colab\"/></a>"
      ]
    },
    {
      "cell_type": "markdown",
      "metadata": {
        "id": "rkBeE892NJH9",
        "colab_type": "text"
      },
      "source": [
        "**Simple Regression**"
      ]
    },
    {
      "cell_type": "code",
      "metadata": {
        "id": "QykTiQqAZf12",
        "colab_type": "code",
        "colab": {}
      },
      "source": [
        "import tensorflow as tf\n",
        "import numpy as np"
      ],
      "execution_count": 0,
      "outputs": []
    },
    {
      "cell_type": "code",
      "metadata": {
        "id": "hjfEOfr_ZpDW",
        "colab_type": "code",
        "outputId": "c2d65084-bcb8-4e38-db29-820833c27663",
        "colab": {
          "base_uri": "https://localhost:8080/",
          "height": 53
        }
      },
      "source": [
        "x_data = np.linspace(0,10,10) + np.random.uniform(-1.5,1.5,10)\n",
        "\n",
        "x_data"
      ],
      "execution_count": 69,
      "outputs": [
        {
          "output_type": "execute_result",
          "data": {
            "text/plain": [
              "array([ 0.32484835,  0.97067634,  2.31748994,  3.82752321,  3.7202802 ,\n",
              "        4.32932993,  6.18420375,  9.00441811,  9.20904493, 10.30545259])"
            ]
          },
          "metadata": {
            "tags": []
          },
          "execution_count": 69
        }
      ]
    },
    {
      "cell_type": "code",
      "metadata": {
        "id": "1J1BspD8Z-fP",
        "colab_type": "code",
        "outputId": "094ad3ef-f203-4dae-8551-06a3db2bb02f",
        "colab": {
          "base_uri": "https://localhost:8080/",
          "height": 53
        }
      },
      "source": [
        "y_label = np.linspace(0,10,10) + np.random.uniform(-1.5,1.5,10)\n",
        "y_label"
      ],
      "execution_count": 70,
      "outputs": [
        {
          "output_type": "execute_result",
          "data": {
            "text/plain": [
              "array([-0.66545559,  1.95376943,  1.73694307,  3.48704444,  3.44141668,\n",
              "        5.1034983 ,  6.17097663,  7.57099891,  8.99216834,  8.56596872])"
            ]
          },
          "metadata": {
            "tags": []
          },
          "execution_count": 70
        }
      ]
    },
    {
      "cell_type": "code",
      "metadata": {
        "id": "d9LflcwSasg0",
        "colab_type": "code",
        "outputId": "dae5df2d-2d53-4c58-b2e1-7585ab6069f7",
        "colab": {
          "base_uri": "https://localhost:8080/",
          "height": 283
        }
      },
      "source": [
        "import matplotlib.pyplot as plt\n",
        "plt.plot(x_data,y_label, '*')"
      ],
      "execution_count": 71,
      "outputs": [
        {
          "output_type": "execute_result",
          "data": {
            "text/plain": [
              "[<matplotlib.lines.Line2D at 0x7f9ca7587710>]"
            ]
          },
          "metadata": {
            "tags": []
          },
          "execution_count": 71
        },
        {
          "output_type": "display_data",
          "data": {
            "image/png": "[encoded data removed]",
            "text/plain": [
              "<Figure size 432x288 with 1 Axes>"
            ]
          },
          "metadata": {
            "tags": []
          }
        }
      ]
    },
    {
      "cell_type": "markdown",
      "metadata": {
        "id": "gbB89vC_f6QT",
        "colab_type": "text"
      },
      "source": [
        "**y=mx+C**"
      ]
    },
    {
      "cell_type": "code",
      "metadata": {
        "id": "xUek4omMaxA2",
        "colab_type": "code",
        "outputId": "297a7b69-4d2e-4feb-a796-b3721c66cb96",
        "colab": {
          "base_uri": "https://localhost:8080/",
          "height": 35
        }
      },
      "source": [
        "np.random.rand(2)"
      ],
      "execution_count": 72,
      "outputs": [
        {
          "output_type": "execute_result",
          "data": {
            "text/plain": [
              "array([0.8980541 , 0.83323024])"
            ]
          },
          "metadata": {
            "tags": []
          },
          "execution_count": 72
        }
      ]
    },
    {
      "cell_type": "code",
      "metadata": {
        "id": "ihD_W3tkgCoS",
        "colab_type": "code",
        "colab": {}
      },
      "source": [
        "m = tf.Variable(0.98)\n",
        "\n",
        "b = tf.Variable(0.85)"
      ],
      "execution_count": 0,
      "outputs": []
    },
    {
      "cell_type": "code",
      "metadata": {
        "id": "BtuzddK0gNVh",
        "colab_type": "code",
        "colab": {}
      },
      "source": [
        "#Cost Funciton\n",
        "error = 0\n",
        "\n",
        "for x,y in zip(x_data,y_label):\n",
        "    \n",
        "    y_hat = m*x + b\n",
        "    \n",
        "    error += (y-y_hat)**2"
      ],
      "execution_count": 0,
      "outputs": []
    },
    {
      "cell_type": "code",
      "metadata": {
        "id": "yZG7vfn_hLNG",
        "colab_type": "code",
        "colab": {}
      },
      "source": [
        "#Cost Optimiser\n",
        "optimizer = tf.train.GradientDescentOptimizer(learning_rate=0.001)\n",
        "train = optimizer.minimize(error)"
      ],
      "execution_count": 0,
      "outputs": []
    },
    {
      "cell_type": "code",
      "metadata": {
        "id": "ff0LlcT1hZFP",
        "colab_type": "code",
        "colab": {}
      },
      "source": [
        "init = tf.global_variables_initializer()"
      ],
      "execution_count": 0,
      "outputs": []
    },
    {
      "cell_type": "code",
      "metadata": {
        "id": "8Z5gUxVUhqAp",
        "colab_type": "code",
        "colab": {}
      },
      "source": [
        "with tf.Session() as sess:\n",
        "    sess.run(init)\n",
        "    \n",
        "    epochs = 100\n",
        "    \n",
        "    for i in range(epochs):\n",
        "        sess.run(train)\n",
        "        \n",
        "    final_slope, final_intercept = sess.run([m,b])"
      ],
      "execution_count": 0,
      "outputs": []
    },
    {
      "cell_type": "code",
      "metadata": {
        "id": "ex96pmANhw53",
        "colab_type": "code",
        "outputId": "77384919-0e48-480e-87dc-2dcbc3b4cdea",
        "colab": {
          "base_uri": "https://localhost:8080/",
          "height": 35
        }
      },
      "source": [
        "final_slope"
      ],
      "execution_count": 78,
      "outputs": [
        {
          "output_type": "execute_result",
          "data": {
            "text/plain": [
              "0.8345228"
            ]
          },
          "metadata": {
            "tags": []
          },
          "execution_count": 78
        }
      ]
    },
    {
      "cell_type": "code",
      "metadata": {
        "id": "1w6hqKPjiU_T",
        "colab_type": "code",
        "outputId": "96cb46e9-77c3-4829-97f6-250cc0e5cecf",
        "colab": {
          "base_uri": "https://localhost:8080/",
          "height": 35
        }
      },
      "source": [
        "final_intercept"
      ],
      "execution_count": 79,
      "outputs": [
        {
          "output_type": "execute_result",
          "data": {
            "text/plain": [
              "0.54743135"
            ]
          },
          "metadata": {
            "tags": []
          },
          "execution_count": 79
        }
      ]
    },
    {
      "cell_type": "code",
      "metadata": {
        "id": "fVfW-IHNiWWy",
        "colab_type": "code",
        "outputId": "10f3766a-3442-473b-eed5-4266885f7085",
        "colab": {
          "base_uri": "https://localhost:8080/",
          "height": 301
        }
      },
      "source": [
        "x_test =np.linspace(-1,11,10)\n",
        "y_pred_plot = final_slope*x_test + final_intercept\n",
        "plt.plot(x_test, y_pred_plot, 'b')\n",
        "plt.plot(x_data, y_label, '*')\n",
        "x_test"
      ],
      "execution_count": 80,
      "outputs": [
        {
          "output_type": "execute_result",
          "data": {
            "text/plain": [
              "array([-1.        ,  0.33333333,  1.66666667,  3.        ,  4.33333333,\n",
              "        5.66666667,  7.        ,  8.33333333,  9.66666667, 11.        ])"
            ]
          },
          "metadata": {
            "tags": []
          },
          "execution_count": 80
        },
        {
          "output_type": "display_data",
          "data": {
            "image/png": "[encoded data removed]",
            "text/plain": [
              "<Figure size 432x288 with 1 Axes>"
            ]
          },
          "metadata": {
            "tags": []
          }
        }
      ]
    },
    {
      "cell_type": "markdown",
      "metadata": {
        "id": "zh8IixncNHXG",
        "colab_type": "text"
      },
      "source": [
        ""
      ]
    },
    {
      "cell_type": "code",
      "metadata": {
        "id": "wNZmhV81jux3",
        "colab_type": "code",
        "colab": {}
      },
      "source": [
        ""
      ],
      "execution_count": 0,
      "outputs": []
    }
  ]
}